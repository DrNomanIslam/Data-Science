{
 "cells": [
  {
   "cell_type": "markdown",
   "metadata": {},
   "source": [
    "#### Import the essential libraries"
   ]
  },
  {
   "cell_type": "code",
   "execution_count": null,
   "metadata": {},
   "outputs": [],
   "source": [
    "import pandas as pd\n",
    "from fuzzywuzzy import fuzz\n",
    "import matplotlib.pyplot as plt"
   ]
  },
  {
   "cell_type": "markdown",
   "metadata": {},
   "source": [
    "#### Read the parties and candidates list"
   ]
  },
  {
   "cell_type": "code",
   "execution_count": 101,
   "metadata": {
    "collapsed": true
   },
   "outputs": [],
   "source": [
    "data=pd.read_csv('2018.csv')\n",
    "parties=pd.read_csv('parties.csv')"
   ]
  },
  {
   "cell_type": "code",
   "execution_count": 102,
   "metadata": {},
   "outputs": [],
   "source": [
    "candidates_count=data.groupby('Constituency_title').count()"
   ]
  },
  {
   "cell_type": "markdown",
   "metadata": {},
   "source": [
    "#### Number of candidates in a constituency on average"
   ]
  },
  {
   "cell_type": "code",
   "execution_count": 103,
   "metadata": {},
   "outputs": [
    {
     "data": {
      "text/plain": [
       "12.668"
      ]
     },
     "execution_count": 103,
     "metadata": {},
     "output_type": "execute_result"
    }
   ],
   "source": [
    "candidates_count.Party.mean()"
   ]
  },
  {
   "cell_type": "markdown",
   "metadata": {},
   "source": [
    "#### Find out the constituencies with the maximum candidates"
   ]
  },
  {
   "cell_type": "code",
   "execution_count": 104,
   "metadata": {},
   "outputs": [
    {
     "data": {
      "text/plain": [
       "Constituency_title\n",
       "NA-45     39\n",
       "NA-48     35\n",
       "NA-53     33\n",
       "NA-259    31\n",
       "NA-50     28\n",
       "NA-54     28\n",
       "NA-44     26\n",
       "NA-17     25\n",
       "NA-207    25\n",
       "NA-260    25\n",
       "Name: Seat, dtype: int64"
      ]
     },
     "execution_count": 104,
     "metadata": {},
     "output_type": "execute_result"
    }
   ],
   "source": [
    "data.groupby(['Constituency_title'])['Seat'].count().nlargest(10)"
   ]
  },
  {
   "cell_type": "markdown",
   "metadata": {},
   "source": [
    "#### Find out the constituency with the lowest number of candidates"
   ]
  },
  {
   "cell_type": "code",
   "execution_count": 105,
   "metadata": {},
   "outputs": [
    {
     "data": {
      "text/plain": [
       "Constituency_title\n",
       "NA-18     1\n",
       "NA- 14    3\n",
       "NA-14     4\n",
       "NA? 14    4\n",
       "NA-160    5\n",
       "NA-186    5\n",
       "NA-190    5\n",
       "NA-20     5\n",
       "NA-29     5\n",
       "NA-119    6\n",
       "Name: Seat, dtype: int64"
      ]
     },
     "execution_count": 105,
     "metadata": {},
     "output_type": "execute_result"
    }
   ],
   "source": [
    "data.groupby(['Constituency_title'])['Seat'].count().nsmallest(10)"
   ]
  },
  {
   "cell_type": "code",
   "execution_count": 98,
   "metadata": {},
   "outputs": [],
   "source": [
    "def resolveParty(x):\n",
    "    max=0\n",
    "    match=''\n",
    "    for i in parties['Name of Political Party']:\n",
    "        r=fuzz.ratio(x,i)\n",
    "        if r>max:\n",
    "            max=r\n",
    "            match=i\n",
    "    return match"
   ]
  },
  {
   "cell_type": "markdown",
   "metadata": {},
   "source": [
    "#### Find out the best match for a party name, resolving spelling mistakes"
   ]
  },
  {
   "cell_type": "code",
   "execution_count": 106,
   "metadata": {
    "scrolled": true
   },
   "outputs": [],
   "source": [
    "extracted_parties=data.Party.apply(lambda x: resolveParty(x))"
   ]
  },
  {
   "cell_type": "code",
   "execution_count": 107,
   "metadata": {},
   "outputs": [],
   "source": [
    "data.Party=extracted_parties"
   ]
  },
  {
   "cell_type": "markdown",
   "metadata": {},
   "source": [
    "#### Find number of candidates per party"
   ]
  },
  {
   "cell_type": "code",
   "execution_count": 108,
   "metadata": {},
   "outputs": [],
   "source": [
    "seats=data.groupby(['Party'])['Seat'].count()"
   ]
  },
  {
   "cell_type": "code",
   "execution_count": 109,
   "metadata": {},
   "outputs": [],
   "source": [
    "party_position=seats.nlargest(11)"
   ]
  },
  {
   "cell_type": "code",
   "execution_count": 110,
   "metadata": {},
   "outputs": [
    {
     "data": {
      "text/plain": [
       "Party\n",
       "Independent                                1371\n",
       "Pakistan Peoples Party Parliamentarians     219\n",
       "Pakistan Tehreek-e-Insaf                    218\n",
       "Pakistan Muslim League (N)                  186\n",
       "Tehreek Labbaik Pakistan                    160\n",
       "National Party                              152\n",
       "Mutahida Majlis-e-Amal Pakistan             131\n",
       "Allah-O-Akbar Tehreek                        62\n",
       "Awami National Party                         62\n",
       "Pak Sarzameen Party                          51\n",
       "All Pakistan Muslim League                   42\n",
       "Name: Seat, dtype: int64"
      ]
     },
     "execution_count": 110,
     "metadata": {},
     "output_type": "execute_result"
    }
   ],
   "source": [
    "party_position"
   ]
  },
  {
   "cell_type": "markdown",
   "metadata": {},
   "source": [
    "#### Plot the parties with most number of candidates"
   ]
  },
  {
   "cell_type": "code",
   "execution_count": 112,
   "metadata": {},
   "outputs": [
    {
     "data": {
      "image/png": "[encoded data removed]",
      "text/plain": [
       "<matplotlib.figure.Figure at 0x6f20312550>"
      ]
     },
     "metadata": {},
     "output_type": "display_data"
    }
   ],
   "source": [
    "party_position.iloc[1:].plot(kind='bar')\n",
    "plt.show()"
   ]
  },
  {
   "cell_type": "markdown",
   "metadata": {},
   "source": [
    "#### Party with least number of seats"
   ]
  },
  {
   "cell_type": "code",
   "execution_count": 113,
   "metadata": {},
   "outputs": [
    {
     "data": {
      "text/plain": [
       "Party\n",
       "Front National Pakistan                  1\n",
       "Jamiat Ulma-e-Islam Nazryati Pakistan    1\n",
       "National Peace Council Party             1\n",
       "Pakistan Awami Inqelabi League           1\n",
       "Pakistan Freedom Movement                1\n",
       "Pakistan Human Rights Party              1\n",
       "Pakistan Justice and Democratic Party    1\n",
       "Pakistan Muslim League Organization      1\n",
       "Pakistan Tehreek-e-Insaniat              1\n",
       "Peoples Movement of Pakistan             1\n",
       "Name: Seat, dtype: int64"
      ]
     },
     "execution_count": 113,
     "metadata": {},
     "output_type": "execute_result"
    }
   ],
   "source": [
    "seats.nsmallest(10)"
   ]
  }
 ],
 "metadata": {
  "anaconda-cloud": {},
  "kernelspec": {
   "display_name": "Python 3",
   "language": "python",
   "name": "python3"
  },
  "language_info": {
   "codemirror_mode": {
    "name": "ipython",
    "version": 3
   },
   "file_extension": ".py",
   "mimetype": "text/x-python",
   "name": "python",
   "nbconvert_exporter": "python",
   "pygments_lexer": "ipython3",
   "version": "3.7.3"
  }
 },
 "nbformat": 4,
 "nbformat_minor": 1
}

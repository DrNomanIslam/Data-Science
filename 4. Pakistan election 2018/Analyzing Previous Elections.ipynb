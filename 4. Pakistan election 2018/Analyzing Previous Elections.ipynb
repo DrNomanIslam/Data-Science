{
 "cells": [
  {
   "cell_type": "code",
   "execution_count": 26,
   "metadata": {
    "collapsed": false
   },
   "outputs": [],
   "source": [
    "import pandas as pd\n",
    "from fuzzywuzzy import process"
   ]
  },
  {
   "cell_type": "code",
   "execution_count": 27,
   "metadata": {
    "collapsed": false
   },
   "outputs": [],
   "source": [
    "data2013=pd.read_csv('National Assembly 2013.csv',encoding = \"ISO-8859-1\")\n",
    "data2018=pd.read_csv('NA Candidate List.csv')"
   ]
  },
  {
   "cell_type": "code",
   "execution_count": 28,
   "metadata": {
    "collapsed": false
   },
   "outputs": [],
   "source": [
    "def checkIfPartyChanged(x):\n",
    "    #Get the closest match with candidate name in 2013\n",
    "    result = process.extractOne(x.Candidate_Name, data2013['CandidateName'])\n",
    "    #If it closely matches\n",
    "    if(result[1]>=90):\n",
    "        #Extract the party name\n",
    "        candidate=data2013['CandidateName'].isin([result[0]])\n",
    "        party=data2013.loc[candidate, 'Party']\n",
    "        \n",
    "        #If party name is same in both election\n",
    "        if(fuzz.token_sort_ratio(x.Party,party)>90):\n",
    "            return False\n",
    "        else:\n",
    "            return True\n",
    "    else:\n",
    "        return False"
   ]
  },
  {
   "cell_type": "code",
   "execution_count": null,
   "metadata": {
    "collapsed": false
   },
   "outputs": [],
   "source": [
    "partyChanged=data2018.apply(lambda x: checkIfPartyChanged(x),axis=1)"
   ]
  },
  {
   "cell_type": "code",
   "execution_count": 58,
   "metadata": {
    "collapsed": false
   },
   "outputs": [
    {
     "data": {
      "text/html": [
       "<div>\n",
       "<style scoped>\n",
       "    .dataframe tbody tr th:only-of-type {\n",
       "        vertical-align: middle;\n",
       "    }\n",
       "\n",
       "    .dataframe tbody tr th {\n",
       "        vertical-align: top;\n",
       "    }\n",
       "\n",
       "    .dataframe thead th {\n",
       "        text-align: right;\n",
       "    }\n",
       "</style>\n",
       "<table border=\"1\" class=\"dataframe\">\n",
       "  <thead>\n",
       "    <tr style=\"text-align: right;\">\n",
       "      <th></th>\n",
       "      <th>District</th>\n",
       "      <th>Seat</th>\n",
       "      <th>Constituency_title</th>\n",
       "      <th>Candidate_Name</th>\n",
       "      <th>Party</th>\n",
       "    </tr>\n",
       "  </thead>\n",
       "  <tbody>\n",
       "    <tr>\n",
       "      <th>368</th>\n",
       "      <td>Lakki Marwat</td>\n",
       "      <td>Lakki marwat</td>\n",
       "      <td>NA-36</td>\n",
       "      <td>Abdullah</td>\n",
       "      <td>PMAP</td>\n",
       "    </tr>\n",
       "    <tr>\n",
       "      <th>373</th>\n",
       "      <td>Lakki Marwat</td>\n",
       "      <td>Lakki marwat</td>\n",
       "      <td>NA-36</td>\n",
       "      <td>Muhammad Anwar</td>\n",
       "      <td>MMA</td>\n",
       "    </tr>\n",
       "    <tr>\n",
       "      <th>663</th>\n",
       "      <td>Tribal Area</td>\n",
       "      <td>Tribal Area - XI</td>\n",
       "      <td>NA-50</td>\n",
       "      <td>Abdullah</td>\n",
       "      <td>Independent</td>\n",
       "    </tr>\n",
       "    <tr>\n",
       "      <th>688</th>\n",
       "      <td>Tribal Area</td>\n",
       "      <td>Tribal Area - XII</td>\n",
       "      <td>NA-51</td>\n",
       "      <td>Abdullah</td>\n",
       "      <td>Independent</td>\n",
       "    </tr>\n",
       "    <tr>\n",
       "      <th>1115</th>\n",
       "      <td>Mandi Bahauddin</td>\n",
       "      <td>Mandi Bahaudin-II</td>\n",
       "      <td>NA-86</td>\n",
       "      <td>Muhammad Anwar</td>\n",
       "      <td>National Party</td>\n",
       "    </tr>\n",
       "    <tr>\n",
       "      <th>1824</th>\n",
       "      <td>Vehari</td>\n",
       "      <td>Vehari-II</td>\n",
       "      <td>NA-163</td>\n",
       "      <td>Muhammad Anwar</td>\n",
       "      <td>Pakistan Kissan Ittehad (Ch.Anwar)</td>\n",
       "    </tr>\n",
       "    <tr>\n",
       "      <th>1888</th>\n",
       "      <td>Bahawalnagar</td>\n",
       "      <td>Bahawalnagar-IV</td>\n",
       "      <td>NA-169</td>\n",
       "      <td>Muhammad Anwar</td>\n",
       "      <td>Independent</td>\n",
       "    </tr>\n",
       "    <tr>\n",
       "      <th>1896</th>\n",
       "      <td>Bahawalpur</td>\n",
       "      <td>Bahawalpur-I</td>\n",
       "      <td>NA-170</td>\n",
       "      <td>Muhammad Anwar</td>\n",
       "      <td>Independent</td>\n",
       "    </tr>\n",
       "    <tr>\n",
       "      <th>2722</th>\n",
       "      <td>Karachi</td>\n",
       "      <td>Karachi South-I</td>\n",
       "      <td>NA-246</td>\n",
       "      <td>Muhammad Anwar</td>\n",
       "      <td>Pakistan Justice &amp; Democratic Party</td>\n",
       "    </tr>\n",
       "  </tbody>\n",
       "</table>\n",
       "</div>"
      ],
      "text/plain": [
       "             District               Seat Constituency_title  Candidate_Name  \\\n",
       "368      Lakki Marwat       Lakki marwat              NA-36        Abdullah   \n",
       "373      Lakki Marwat       Lakki marwat              NA-36  Muhammad Anwar   \n",
       "663      Tribal Area    Tribal Area - XI              NA-50        Abdullah   \n",
       "688      Tribal Area   Tribal Area - XII              NA-51        Abdullah   \n",
       "1115  Mandi Bahauddin  Mandi Bahaudin-II              NA-86  Muhammad Anwar   \n",
       "1824           Vehari          Vehari-II             NA-163  Muhammad Anwar   \n",
       "1888     Bahawalnagar    Bahawalnagar-IV             NA-169  Muhammad Anwar   \n",
       "1896       Bahawalpur       Bahawalpur-I             NA-170  Muhammad Anwar   \n",
       "2722         Karachi     Karachi South-I             NA-246  Muhammad Anwar   \n",
       "\n",
       "                                    Party  \n",
       "368                                  PMAP  \n",
       "373                                   MMA  \n",
       "663                          Independent   \n",
       "688                          Independent   \n",
       "1115                       National Party  \n",
       "1824   Pakistan Kissan Ittehad (Ch.Anwar)  \n",
       "1888                          Independent  \n",
       "1896                          Independent  \n",
       "2722  Pakistan Justice & Democratic Party  "
      ]
     },
     "execution_count": 58,
     "metadata": {},
     "output_type": "execute_result"
    }
   ],
   "source": [
    "data2018[partyChanged]"
   ]
  },
  {
   "cell_type": "code",
   "execution_count": null,
   "metadata": {
    "collapsed": true
   },
   "outputs": [],
   "source": []
  },
  {
   "cell_type": "code",
   "execution_count": null,
   "metadata": {
    "collapsed": true
   },
   "outputs": [],
   "source": []
  }
 ],
 "metadata": {
  "anaconda-cloud": {},
  "kernelspec": {
   "display_name": "Python [conda env:Anaconda3]",
   "language": "python",
   "name": "conda-env-Anaconda3-py"
  },
  "language_info": {
   "codemirror_mode": {
    "name": "ipython",
    "version": 3
   },
   "file_extension": ".py",
   "mimetype": "text/x-python",
   "name": "python",
   "nbconvert_exporter": "python",
   "pygments_lexer": "ipython3",
   "version": "3.5.4"
  }
 },
 "nbformat": 4,
 "nbformat_minor": 1
}
